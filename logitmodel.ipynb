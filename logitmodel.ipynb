{
 "cells": [
  {
   "cell_type": "code",
   "execution_count": 1,
   "metadata": {},
   "outputs": [],
   "source": [
    "from  netCDF4 import Dataset\n",
    "import  numpy as np\n",
    "from sklearn.linear_model import LogisticRegression\n",
    "from sklearn.preprocessing import MinMaxScaler\n",
    "from sklearn.model_selection import train_test_split\n",
    "import joblib\n",
    "import glob\n",
    "import os"
   ]
  },
  {
   "cell_type": "code",
   "execution_count": 2,
   "metadata": {},
   "outputs": [],
   "source": [
    "### Load in the training data from nc files. \n",
    "def nc_load(dir = \"/home/jamie/cruise_processing/falkortoo/FKt240817/wh300/wh300.nc\"):\n",
    "    ### Load in the test data u and v for plotting. \n",
    "    file_id = Dataset(dir)\n",
    "    pg = file_id.variables[\"pg\"][:]\n",
    "    amp = file_id.variables[\"amp\"][:]\n",
    "    mask = file_id.variables[\"pflag\"][:]\n",
    "    depth = file_id.variables[\"depth\"][:]\n",
    "    # u = file_id.variables[\"u\"][:]\n",
    "    # v = file_id.variables[\"v\"][:]\n",
    "    file_id.close()\n",
    "\n",
    "    features = np.stack([amp.flatten(), depth.flatten(), pg.flatten()], axis=1) # depth.flatten()\n",
    "    predictor =  mask.flatten()\n",
    "    # error velocity sounds nice too\n",
    "    return(features, predictor)\n",
    "\n",
    "# funtion for listing all nc files in a directory with there absolute path. \n",
    "def list_nc_files(directory):\n",
    "    nc_files = glob.glob(os.path.join(directory, '**', '*.nc'), recursive=True)\n",
    "    # Convert to absolute paths\n",
    "    nc_files = [os.path.abspath(path) for path in nc_files]\n",
    "    return nc_files\n",
    "\n",
    "def bulkload_nc(dir = \"/home/jamie/projects/flag_model/data/ncfiles\"):\n",
    "    # load train data\n",
    "    # loop through the list using nc_loader and put output into an empty list then compress the list. \n",
    "    dbfiles = list_nc_files(dir)\n",
    "    X = list()\n",
    "    Y = list()\n",
    "    for i in range(0, len(dbfiles)):\n",
    "        file = dbfiles[i]\n",
    "        param, predic = nc_load(file)\n",
    "        X.append(param)\n",
    "        Y.append(predic)\n",
    "    features = np.vstack(X)\n",
    "    predictor = np.hstack(Y)\n",
    "    predictor = predictor.flatten()\n",
    "    return(features, predictor)\n",
    "\n",
    "def what_flags(x, y, arg = [0, 1, 2, 3, 4, 5, 6, 7]):\n",
    "    # Only train on the good stuf. \n",
    "    idx = np.isin(y, arg)\n",
    "    usr_mask = idx.flatten()\n",
    "    x = x[idx, :]\n",
    "    # make all masks 0 or 1. Needed if other flags are used. \n",
    "    y = y[usr_mask]\n",
    "    y[y != 0] = 1\n",
    "    return(x, y)"
   ]
  },
  {
   "cell_type": "code",
   "execution_count": 3,
   "metadata": {},
   "outputs": [
    {
     "data": {
      "text/plain": [
       "['logit_model.pkl']"
      ]
     },
     "execution_count": 3,
     "metadata": {},
     "output_type": "execute_result"
    }
   ],
   "source": [
    "# load the features\n",
    "features, predictor = bulkload_nc(dir = \"/home/jamie/projects/flag_model/data/ncfiles\")\n",
    "features, predictor = what_flags(features, predictor, arg = [0, 1])\n",
    "\n",
    "# scale the data\n",
    "# scaler = MinMaxScaler(feature_range=(0, 1))\n",
    "# scaled_features = scaler.fit_transform(features)\n",
    "\n",
    "# run the model\n",
    "# X_train, X_test, y_train, y_test = train_test_split(features, predictor, test_size=0.7, random_state=42, stratify=predictor)\n",
    "X_train, X_test, y_train, y_test = train_test_split(features, predictor, test_size=0.7, random_state=42, stratify=predictor)\n",
    "# look into ridge and teapot. \n",
    "model = LogisticRegression(max_iter=10000, class_weight='balanced')  \n",
    "model.fit(X_train, y_train)\n",
    "\n",
    "# Save the model. \n",
    "joblib.dump(model, 'logit_model.pkl')"
   ]
  }
 ],
 "metadata": {
  "kernelspec": {
   "display_name": "uhdas",
   "language": "python",
   "name": "python3"
  },
  "language_info": {
   "codemirror_mode": {
    "name": "ipython",
    "version": 3
   },
   "file_extension": ".py",
   "mimetype": "text/x-python",
   "name": "python",
   "nbconvert_exporter": "python",
   "pygments_lexer": "ipython3",
   "version": "3.11.7"
  }
 },
 "nbformat": 4,
 "nbformat_minor": 2
}
